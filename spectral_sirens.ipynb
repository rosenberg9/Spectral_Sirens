{
 "cells": [
  {
   "cell_type": "code",
   "execution_count": 1,
   "id": "2ecb019b-8b82-48fb-b0a4-c3e09ce3fc54",
   "metadata": {},
   "outputs": [],
   "source": [
    "#importing classes\n",
    "import pandas as pd\n",
    "import numpy as np\n",
    "import pickle\n",
    "import bilby as bi\n",
    "from astropy import units as u\n",
    "import matplotlib.pyplot as plt\n",
    "from scipy import integrate\n",
    "from scipy.optimize import curve_fit\n",
    "from scipy.integrate import quad\n",
    "from astropy.cosmology import Planck18,z_at_value\n",
    "from scipy.optimize import curve_fit\n",
    "from matplotlib import cm  # For color map\n",
    "from scipy.stats import gaussian_kde\n",
    "from scipy.signal import find_peaks\n",
    "import multiprocessing\n",
    "from scipy.interpolate import interp1d\n",
    "from concurrent.futures import ThreadPoolExecutor\n",
    "import emcee\n",
    "from scipy.interpolate import RegularGridInterpolator\n",
    "from scipy.optimize import minimize\n",
    "import matplotlib.cm as cm\n",
    "from matplotlib import rc\n",
    "import time\n",
    "from joblib import Parallel, delayed\n",
    "from matplotlib.animation import FuncAnimation, FFMpegWriter\n",
    "from collections import defaultdict\n",
    "from scipy.stats import bootstrap\n",
    "from scipy.ndimage import gaussian_filter1d\n",
    "import corner\n",
    "from scipy.stats import multivariate_normal\n",
    "from scipy.fftpack import fft, ifft, fftfreq, fftshift\n",
    "from fit_H0 import *"
   ]
  },
  {
   "cell_type": "markdown",
   "id": "a44044b0-5ad7-40f5-856d-eae66c566254",
   "metadata": {},
   "source": [
    "## Create redshift interpolant"
   ]
  },
  {
   "cell_type": "code",
   "execution_count": 2,
   "id": "7b6be6be",
   "metadata": {},
   "outputs": [
    {
     "name": "stderr",
     "output_type": "stream",
     "text": [
      "[Parallel(n_jobs=-1)]: Using backend LokyBackend with 32 concurrent workers.\n",
      "[Parallel(n_jobs=-1)]: Done   8 tasks      | elapsed:    2.3s\n",
      "[Parallel(n_jobs=-1)]: Done  98 tasks      | elapsed:    2.7s\n",
      "[Parallel(n_jobs=-1)]: Done 224 tasks      | elapsed:    3.1s\n",
      "[Parallel(n_jobs=-1)]: Done 548 tasks      | elapsed:    3.8s\n",
      "[Parallel(n_jobs=-1)]: Done 944 tasks      | elapsed:    4.5s\n",
      "[Parallel(n_jobs=-1)]: Done 1448 tasks      | elapsed:    5.4s\n",
      "/cita/modules/python/3.10.2/lib/python3.10/site-packages/scipy/optimize/_optimize.py:2319: RuntimeWarning: overflow encountered in double_scalars\n",
      "  (np.abs(p) < np.abs(0.5 * tmp2 * dx_temp))):\n",
      "/cita/modules/python/3.10.2/lib/python3.10/site-packages/scipy/optimize/_optimize.py:2310: RuntimeWarning: overflow encountered in double_scalars\n",
      "  p = (x - v) * tmp2 - (x - w) * tmp1\n",
      "/cita/modules/python/3.10.2/lib/python3.10/site-packages/scipy/optimize/_optimize.py:2318: RuntimeWarning: overflow encountered in double_scalars\n",
      "  if ((p > tmp2 * (a - x)) and (p < tmp2 * (b - x)) and\n",
      "[Parallel(n_jobs=-1)]: Done 3168 tasks      | elapsed:    7.0s\n",
      "/cita/modules/python/3.10.2/lib/python3.10/site-packages/scipy/optimize/_optimize.py:2318: RuntimeWarning: overflow encountered in double_scalars\n",
      "  if ((p > tmp2 * (a - x)) and (p < tmp2 * (b - x)) and\n",
      "/cita/modules/python/3.10.2/lib/python3.10/site-packages/scipy/optimize/_optimize.py:2319: RuntimeWarning: overflow encountered in double_scalars\n",
      "  (np.abs(p) < np.abs(0.5 * tmp2 * dx_temp))):\n",
      "/cita/modules/python/3.10.2/lib/python3.10/site-packages/scipy/optimize/_optimize.py:2310: RuntimeWarning: overflow encountered in double_scalars\n",
      "  p = (x - v) * tmp2 - (x - w) * tmp1\n",
      "/cita/modules/python/3.10.2/lib/python3.10/site-packages/scipy/optimize/_optimize.py:2310: RuntimeWarning: invalid value encountered in double_scalars\n",
      "  p = (x - v) * tmp2 - (x - w) * tmp1\n",
      "/cita/modules/python/3.10.2/lib/python3.10/site-packages/scipy/optimize/_optimize.py:2318: RuntimeWarning: overflow encountered in double_scalars\n",
      "  if ((p > tmp2 * (a - x)) and (p < tmp2 * (b - x)) and\n",
      "/cita/modules/python/3.10.2/lib/python3.10/site-packages/scipy/optimize/_optimize.py:2319: RuntimeWarning: overflow encountered in double_scalars\n",
      "  (np.abs(p) < np.abs(0.5 * tmp2 * dx_temp))):\n",
      "/cita/modules/python/3.10.2/lib/python3.10/site-packages/scipy/optimize/_optimize.py:2310: RuntimeWarning: overflow encountered in double_scalars\n",
      "  p = (x - v) * tmp2 - (x - w) * tmp1\n",
      "/cita/modules/python/3.10.2/lib/python3.10/site-packages/scipy/optimize/_optimize.py:2310: RuntimeWarning: invalid value encountered in double_scalars\n",
      "  p = (x - v) * tmp2 - (x - w) * tmp1\n",
      "/cita/modules/python/3.10.2/lib/python3.10/site-packages/scipy/optimize/_optimize.py:2318: RuntimeWarning: overflow encountered in double_scalars\n",
      "  if ((p > tmp2 * (a - x)) and (p < tmp2 * (b - x)) and\n",
      "/cita/modules/python/3.10.2/lib/python3.10/site-packages/scipy/optimize/_optimize.py:2319: RuntimeWarning: overflow encountered in double_scalars\n",
      "  (np.abs(p) < np.abs(0.5 * tmp2 * dx_temp))):\n",
      "[Parallel(n_jobs=-1)]: Done 5616 tasks      | elapsed:    9.1s\n",
      "/cita/modules/python/3.10.2/lib/python3.10/site-packages/scipy/optimize/_optimize.py:2319: RuntimeWarning: overflow encountered in double_scalars\n",
      "  (np.abs(p) < np.abs(0.5 * tmp2 * dx_temp))):\n",
      "/cita/modules/python/3.10.2/lib/python3.10/site-packages/scipy/optimize/_optimize.py:2310: RuntimeWarning: invalid value encountered in double_scalars\n",
      "  p = (x - v) * tmp2 - (x - w) * tmp1\n",
      "/cita/modules/python/3.10.2/lib/python3.10/site-packages/scipy/optimize/_optimize.py:2310: RuntimeWarning: overflow encountered in double_scalars\n",
      "  p = (x - v) * tmp2 - (x - w) * tmp1\n",
      "/cita/modules/python/3.10.2/lib/python3.10/site-packages/scipy/optimize/_optimize.py:2310: RuntimeWarning: invalid value encountered in double_scalars\n",
      "  p = (x - v) * tmp2 - (x - w) * tmp1\n",
      "/cita/modules/python/3.10.2/lib/python3.10/site-packages/scipy/optimize/_optimize.py:2318: RuntimeWarning: overflow encountered in double_scalars\n",
      "  if ((p > tmp2 * (a - x)) and (p < tmp2 * (b - x)) and\n",
      "/cita/modules/python/3.10.2/lib/python3.10/site-packages/scipy/optimize/_optimize.py:2318: RuntimeWarning: overflow encountered in double_scalars\n",
      "  if ((p > tmp2 * (a - x)) and (p < tmp2 * (b - x)) and\n",
      "/cita/modules/python/3.10.2/lib/python3.10/site-packages/scipy/optimize/_optimize.py:2310: RuntimeWarning: overflow encountered in double_scalars\n",
      "  p = (x - v) * tmp2 - (x - w) * tmp1\n",
      "/cita/modules/python/3.10.2/lib/python3.10/site-packages/scipy/optimize/_optimize.py:2318: RuntimeWarning: overflow encountered in double_scalars\n",
      "  if ((p > tmp2 * (a - x)) and (p < tmp2 * (b - x)) and\n",
      "/cita/modules/python/3.10.2/lib/python3.10/site-packages/scipy/optimize/_optimize.py:2310: RuntimeWarning: overflow encountered in double_scalars\n",
      "  p = (x - v) * tmp2 - (x - w) * tmp1\n",
      "/cita/modules/python/3.10.2/lib/python3.10/site-packages/scipy/optimize/_optimize.py:2310: RuntimeWarning: invalid value encountered in double_scalars\n",
      "  p = (x - v) * tmp2 - (x - w) * tmp1\n",
      "/cita/modules/python/3.10.2/lib/python3.10/site-packages/scipy/optimize/_optimize.py:2318: RuntimeWarning: overflow encountered in double_scalars\n",
      "  if ((p > tmp2 * (a - x)) and (p < tmp2 * (b - x)) and\n",
      "/cita/modules/python/3.10.2/lib/python3.10/site-packages/scipy/optimize/_optimize.py:2310: RuntimeWarning: overflow encountered in double_scalars\n",
      "  p = (x - v) * tmp2 - (x - w) * tmp1\n",
      "/cita/modules/python/3.10.2/lib/python3.10/site-packages/scipy/optimize/_optimize.py:2310: RuntimeWarning: invalid value encountered in double_scalars\n",
      "  p = (x - v) * tmp2 - (x - w) * tmp1\n",
      "/cita/modules/python/3.10.2/lib/python3.10/site-packages/scipy/optimize/_optimize.py:2318: RuntimeWarning: overflow encountered in double_scalars\n",
      "  if ((p > tmp2 * (a - x)) and (p < tmp2 * (b - x)) and\n",
      "/cita/modules/python/3.10.2/lib/python3.10/site-packages/scipy/optimize/_optimize.py:2319: RuntimeWarning: overflow encountered in double_scalars\n",
      "  (np.abs(p) < np.abs(0.5 * tmp2 * dx_temp))):\n",
      "/cita/modules/python/3.10.2/lib/python3.10/site-packages/scipy/optimize/_optimize.py:2310: RuntimeWarning: overflow encountered in double_scalars\n",
      "  p = (x - v) * tmp2 - (x - w) * tmp1\n",
      "[Parallel(n_jobs=-1)]: Done 8352 tasks      | elapsed:   11.6s\n",
      "[Parallel(n_jobs=-1)]: Done 10000 out of 10000 | elapsed:   13.3s finished\n"
     ]
    },
    {
     "data": {
      "text/plain": [
       "<scipy.interpolate._interpolate.interp1d at 0x7f18d84634c0>"
      ]
     },
     "execution_count": 2,
     "metadata": {},
     "output_type": "execute_result"
    }
   ],
   "source": [
    "create_interpolant(x_steps=int(1e4))"
   ]
  },
  {
   "cell_type": "code",
   "execution_count": 6,
   "id": "0832a545",
   "metadata": {},
   "outputs": [
    {
     "data": {
      "text/plain": [
       "array(0.00023845)"
      ]
     },
     "execution_count": 6,
     "metadata": {},
     "output_type": "execute_result"
    }
   ],
   "source": [
    "get_z(67.66,1e3)"
   ]
  },
  {
   "cell_type": "code",
   "execution_count": 2,
   "id": "81a24117",
   "metadata": {},
   "outputs": [
    {
     "name": "stderr",
     "output_type": "stream",
     "text": [
      "[Parallel(n_jobs=-1)]: Using backend LokyBackend with 32 concurrent workers.\n"
     ]
    },
    {
     "name": "stderr",
     "output_type": "stream",
     "text": [
      "[Parallel(n_jobs=-1)]: Done   8 tasks      | elapsed:    2.2s\n",
      "[Parallel(n_jobs=-1)]: Done  98 tasks      | elapsed:    2.7s\n",
      "[Parallel(n_jobs=-1)]: Done 224 tasks      | elapsed:    3.1s\n",
      "[Parallel(n_jobs=-1)]: Done 552 tasks      | elapsed:    3.6s\n",
      "[Parallel(n_jobs=-1)]: Done 1376 tasks      | elapsed:    4.4s\n",
      "[Parallel(n_jobs=-1)]: Done 4672 tasks      | elapsed:    6.5s\n",
      "[Parallel(n_jobs=-1)]: Done 8992 tasks      | elapsed:    9.6s\n",
      "[Parallel(n_jobs=-1)]: Done 13888 tasks      | elapsed:   13.1s\n",
      "[Parallel(n_jobs=-1)]: Done 19360 tasks      | elapsed:   17.3s\n",
      "/cita/modules/python/3.10.2/lib/python3.10/site-packages/scipy/optimize/_optimize.py:2310: RuntimeWarning: overflow encountered in double_scalars\n",
      "  p = (x - v) * tmp2 - (x - w) * tmp1\n",
      "/cita/modules/python/3.10.2/lib/python3.10/site-packages/scipy/optimize/_optimize.py:2318: RuntimeWarning: overflow encountered in double_scalars\n",
      "  if ((p > tmp2 * (a - x)) and (p < tmp2 * (b - x)) and\n",
      "/cita/modules/python/3.10.2/lib/python3.10/site-packages/scipy/optimize/_optimize.py:2310: RuntimeWarning: overflow encountered in double_scalars\n",
      "  p = (x - v) * tmp2 - (x - w) * tmp1\n",
      "/cita/modules/python/3.10.2/lib/python3.10/site-packages/scipy/optimize/_optimize.py:2318: RuntimeWarning: overflow encountered in double_scalars\n",
      "  if ((p > tmp2 * (a - x)) and (p < tmp2 * (b - x)) and\n",
      "/cita/modules/python/3.10.2/lib/python3.10/site-packages/scipy/optimize/_optimize.py:2310: RuntimeWarning: overflow encountered in double_scalars\n",
      "  p = (x - v) * tmp2 - (x - w) * tmp1\n",
      "/cita/modules/python/3.10.2/lib/python3.10/site-packages/scipy/optimize/_optimize.py:2318: RuntimeWarning: overflow encountered in double_scalars\n",
      "  if ((p > tmp2 * (a - x)) and (p < tmp2 * (b - x)) and\n",
      "/cita/modules/python/3.10.2/lib/python3.10/site-packages/scipy/optimize/_optimize.py:2319: RuntimeWarning: overflow encountered in double_scalars\n",
      "  (np.abs(p) < np.abs(0.5 * tmp2 * dx_temp))):\n",
      "/cita/modules/python/3.10.2/lib/python3.10/site-packages/scipy/optimize/_optimize.py:2318: RuntimeWarning: overflow encountered in double_scalars\n",
      "  if ((p > tmp2 * (a - x)) and (p < tmp2 * (b - x)) and\n",
      "/cita/modules/python/3.10.2/lib/python3.10/site-packages/scipy/optimize/_optimize.py:2310: RuntimeWarning: overflow encountered in double_scalars\n",
      "  p = (x - v) * tmp2 - (x - w) * tmp1\n",
      "[Parallel(n_jobs=-1)]: Done 25408 tasks      | elapsed:   22.1s\n",
      "[Parallel(n_jobs=-1)]: Done 32032 tasks      | elapsed:   27.4s\n",
      "[Parallel(n_jobs=-1)]: Done 39232 tasks      | elapsed:   33.4s\n",
      "/cita/modules/python/3.10.2/lib/python3.10/site-packages/scipy/optimize/_optimize.py:2318: RuntimeWarning: overflow encountered in double_scalars\n",
      "  if ((p > tmp2 * (a - x)) and (p < tmp2 * (b - x)) and\n",
      "/cita/modules/python/3.10.2/lib/python3.10/site-packages/scipy/optimize/_optimize.py:2319: RuntimeWarning: overflow encountered in double_scalars\n",
      "  (np.abs(p) < np.abs(0.5 * tmp2 * dx_temp))):\n",
      "/cita/modules/python/3.10.2/lib/python3.10/site-packages/scipy/optimize/_optimize.py:2310: RuntimeWarning: overflow encountered in double_scalars\n",
      "  p = (x - v) * tmp2 - (x - w) * tmp1\n",
      "/cita/modules/python/3.10.2/lib/python3.10/site-packages/scipy/optimize/_optimize.py:2318: RuntimeWarning: overflow encountered in double_scalars\n",
      "  if ((p > tmp2 * (a - x)) and (p < tmp2 * (b - x)) and\n",
      "/cita/modules/python/3.10.2/lib/python3.10/site-packages/scipy/optimize/_optimize.py:2310: RuntimeWarning: overflow encountered in double_scalars\n",
      "  p = (x - v) * tmp2 - (x - w) * tmp1\n",
      "/cita/modules/python/3.10.2/lib/python3.10/site-packages/scipy/optimize/_optimize.py:2318: RuntimeWarning: overflow encountered in double_scalars\n",
      "  if ((p > tmp2 * (a - x)) and (p < tmp2 * (b - x)) and\n",
      "/cita/modules/python/3.10.2/lib/python3.10/site-packages/scipy/optimize/_optimize.py:2310: RuntimeWarning: overflow encountered in double_scalars\n",
      "  p = (x - v) * tmp2 - (x - w) * tmp1\n",
      "/cita/modules/python/3.10.2/lib/python3.10/site-packages/scipy/optimize/_optimize.py:2318: RuntimeWarning: overflow encountered in double_scalars\n",
      "  if ((p > tmp2 * (a - x)) and (p < tmp2 * (b - x)) and\n",
      "/cita/modules/python/3.10.2/lib/python3.10/site-packages/scipy/optimize/_optimize.py:2310: RuntimeWarning: overflow encountered in double_scalars\n",
      "  p = (x - v) * tmp2 - (x - w) * tmp1\n",
      "/cita/modules/python/3.10.2/lib/python3.10/site-packages/scipy/optimize/_optimize.py:2310: RuntimeWarning: invalid value encountered in double_scalars\n",
      "  p = (x - v) * tmp2 - (x - w) * tmp1\n",
      "/cita/modules/python/3.10.2/lib/python3.10/site-packages/scipy/optimize/_optimize.py:2318: RuntimeWarning: overflow encountered in double_scalars\n",
      "  if ((p > tmp2 * (a - x)) and (p < tmp2 * (b - x)) and\n",
      "/cita/modules/python/3.10.2/lib/python3.10/site-packages/scipy/optimize/_optimize.py:2319: RuntimeWarning: overflow encountered in double_scalars\n",
      "  (np.abs(p) < np.abs(0.5 * tmp2 * dx_temp))):\n",
      "/cita/modules/python/3.10.2/lib/python3.10/site-packages/scipy/optimize/_optimize.py:2310: RuntimeWarning: overflow encountered in double_scalars\n",
      "  p = (x - v) * tmp2 - (x - w) * tmp1\n",
      "/cita/modules/python/3.10.2/lib/python3.10/site-packages/scipy/optimize/_optimize.py:2310: RuntimeWarning: invalid value encountered in double_scalars\n",
      "  p = (x - v) * tmp2 - (x - w) * tmp1\n",
      "/cita/modules/python/3.10.2/lib/python3.10/site-packages/scipy/optimize/_optimize.py:2318: RuntimeWarning: overflow encountered in double_scalars\n",
      "  if ((p > tmp2 * (a - x)) and (p < tmp2 * (b - x)) and\n",
      "/cita/modules/python/3.10.2/lib/python3.10/site-packages/scipy/optimize/_optimize.py:2319: RuntimeWarning: overflow encountered in double_scalars\n",
      "  (np.abs(p) < np.abs(0.5 * tmp2 * dx_temp))):\n",
      "/cita/modules/python/3.10.2/lib/python3.10/site-packages/scipy/optimize/_optimize.py:2310: RuntimeWarning: overflow encountered in double_scalars\n",
      "  p = (x - v) * tmp2 - (x - w) * tmp1\n",
      "/cita/modules/python/3.10.2/lib/python3.10/site-packages/scipy/optimize/_optimize.py:2310: RuntimeWarning: invalid value encountered in double_scalars\n",
      "  p = (x - v) * tmp2 - (x - w) * tmp1\n",
      "/cita/modules/python/3.10.2/lib/python3.10/site-packages/scipy/optimize/_optimize.py:2318: RuntimeWarning: overflow encountered in double_scalars\n",
      "  if ((p > tmp2 * (a - x)) and (p < tmp2 * (b - x)) and\n",
      "/cita/modules/python/3.10.2/lib/python3.10/site-packages/scipy/optimize/_optimize.py:2319: RuntimeWarning: overflow encountered in double_scalars\n",
      "  (np.abs(p) < np.abs(0.5 * tmp2 * dx_temp))):\n",
      "/cita/modules/python/3.10.2/lib/python3.10/site-packages/scipy/optimize/_optimize.py:2310: RuntimeWarning: overflow encountered in double_scalars\n",
      "  p = (x - v) * tmp2 - (x - w) * tmp1\n",
      "/cita/modules/python/3.10.2/lib/python3.10/site-packages/scipy/optimize/_optimize.py:2310: RuntimeWarning: invalid value encountered in double_scalars\n",
      "  p = (x - v) * tmp2 - (x - w) * tmp1\n",
      "/cita/modules/python/3.10.2/lib/python3.10/site-packages/scipy/optimize/_optimize.py:2318: RuntimeWarning: overflow encountered in double_scalars\n",
      "  if ((p > tmp2 * (a - x)) and (p < tmp2 * (b - x)) and\n",
      "/cita/modules/python/3.10.2/lib/python3.10/site-packages/scipy/optimize/_optimize.py:2319: RuntimeWarning: overflow encountered in double_scalars\n",
      "  (np.abs(p) < np.abs(0.5 * tmp2 * dx_temp))):\n",
      "/cita/modules/python/3.10.2/lib/python3.10/site-packages/scipy/optimize/_optimize.py:2310: RuntimeWarning: overflow encountered in double_scalars\n",
      "  p = (x - v) * tmp2 - (x - w) * tmp1\n",
      "/cita/modules/python/3.10.2/lib/python3.10/site-packages/scipy/optimize/_optimize.py:2310: RuntimeWarning: invalid value encountered in double_scalars\n",
      "  p = (x - v) * tmp2 - (x - w) * tmp1\n",
      "/cita/modules/python/3.10.2/lib/python3.10/site-packages/scipy/optimize/_optimize.py:2318: RuntimeWarning: overflow encountered in double_scalars\n",
      "  if ((p > tmp2 * (a - x)) and (p < tmp2 * (b - x)) and\n",
      "/cita/modules/python/3.10.2/lib/python3.10/site-packages/scipy/optimize/_optimize.py:2319: RuntimeWarning: overflow encountered in double_scalars\n",
      "  (np.abs(p) < np.abs(0.5 * tmp2 * dx_temp))):\n",
      "/cita/modules/python/3.10.2/lib/python3.10/site-packages/scipy/optimize/_optimize.py:2318: RuntimeWarning: overflow encountered in double_scalars\n",
      "  if ((p > tmp2 * (a - x)) and (p < tmp2 * (b - x)) and\n",
      "/cita/modules/python/3.10.2/lib/python3.10/site-packages/scipy/optimize/_optimize.py:2310: RuntimeWarning: invalid value encountered in double_scalars\n",
      "  p = (x - v) * tmp2 - (x - w) * tmp1\n",
      "/cita/modules/python/3.10.2/lib/python3.10/site-packages/scipy/optimize/_optimize.py:2310: RuntimeWarning: overflow encountered in double_scalars\n",
      "  p = (x - v) * tmp2 - (x - w) * tmp1\n",
      "/cita/modules/python/3.10.2/lib/python3.10/site-packages/scipy/optimize/_optimize.py:2319: RuntimeWarning: overflow encountered in double_scalars\n",
      "  (np.abs(p) < np.abs(0.5 * tmp2 * dx_temp))):\n",
      "[Parallel(n_jobs=-1)]: Done 47008 tasks      | elapsed:   40.0s\n",
      "[Parallel(n_jobs=-1)]: Done 55360 tasks      | elapsed:   47.1s\n",
      "[Parallel(n_jobs=-1)]: Done 64288 tasks      | elapsed:   54.8s\n",
      "/cita/modules/python/3.10.2/lib/python3.10/site-packages/scipy/optimize/_optimize.py:2319: RuntimeWarning: overflow encountered in double_scalars\n",
      "  (np.abs(p) < np.abs(0.5 * tmp2 * dx_temp))):\n",
      "/cita/modules/python/3.10.2/lib/python3.10/site-packages/scipy/optimize/_optimize.py:2318: RuntimeWarning: overflow encountered in double_scalars\n",
      "  if ((p > tmp2 * (a - x)) and (p < tmp2 * (b - x)) and\n",
      "/cita/modules/python/3.10.2/lib/python3.10/site-packages/scipy/optimize/_optimize.py:2319: RuntimeWarning: overflow encountered in double_scalars\n",
      "  (np.abs(p) < np.abs(0.5 * tmp2 * dx_temp))):\n",
      "/cita/modules/python/3.10.2/lib/python3.10/site-packages/scipy/optimize/_optimize.py:2318: RuntimeWarning: overflow encountered in double_scalars\n",
      "  if ((p > tmp2 * (a - x)) and (p < tmp2 * (b - x)) and\n",
      "/cita/modules/python/3.10.2/lib/python3.10/site-packages/scipy/optimize/_optimize.py:2319: RuntimeWarning: overflow encountered in double_scalars\n",
      "  (np.abs(p) < np.abs(0.5 * tmp2 * dx_temp))):\n",
      "/cita/modules/python/3.10.2/lib/python3.10/site-packages/scipy/optimize/_optimize.py:2319: RuntimeWarning: overflow encountered in double_scalars\n",
      "  (np.abs(p) < np.abs(0.5 * tmp2 * dx_temp))):\n",
      "/cita/modules/python/3.10.2/lib/python3.10/site-packages/scipy/optimize/_optimize.py:2310: RuntimeWarning: overflow encountered in double_scalars\n",
      "  p = (x - v) * tmp2 - (x - w) * tmp1\n",
      "/cita/modules/python/3.10.2/lib/python3.10/site-packages/scipy/optimize/_optimize.py:2318: RuntimeWarning: overflow encountered in double_scalars\n",
      "  if ((p > tmp2 * (a - x)) and (p < tmp2 * (b - x)) and\n",
      "/cita/modules/python/3.10.2/lib/python3.10/site-packages/scipy/optimize/_optimize.py:2310: RuntimeWarning: overflow encountered in double_scalars\n",
      "  p = (x - v) * tmp2 - (x - w) * tmp1\n",
      "/cita/modules/python/3.10.2/lib/python3.10/site-packages/scipy/optimize/_optimize.py:2318: RuntimeWarning: overflow encountered in double_scalars\n",
      "  if ((p > tmp2 * (a - x)) and (p < tmp2 * (b - x)) and\n",
      "/cita/modules/python/3.10.2/lib/python3.10/site-packages/scipy/optimize/_optimize.py:2310: RuntimeWarning: overflow encountered in double_scalars\n",
      "  p = (x - v) * tmp2 - (x - w) * tmp1\n",
      "/cita/modules/python/3.10.2/lib/python3.10/site-packages/scipy/optimize/_optimize.py:2310: RuntimeWarning: overflow encountered in double_scalars\n",
      "  p = (x - v) * tmp2 - (x - w) * tmp1\n",
      "/cita/modules/python/3.10.2/lib/python3.10/site-packages/scipy/optimize/_optimize.py:2318: RuntimeWarning: overflow encountered in double_scalars\n",
      "  if ((p > tmp2 * (a - x)) and (p < tmp2 * (b - x)) and\n",
      "/cita/modules/python/3.10.2/lib/python3.10/site-packages/scipy/optimize/_optimize.py:2310: RuntimeWarning: overflow encountered in double_scalars\n",
      "  p = (x - v) * tmp2 - (x - w) * tmp1\n",
      "/cita/modules/python/3.10.2/lib/python3.10/site-packages/scipy/optimize/_optimize.py:2318: RuntimeWarning: overflow encountered in double_scalars\n",
      "  if ((p > tmp2 * (a - x)) and (p < tmp2 * (b - x)) and\n",
      "/cita/modules/python/3.10.2/lib/python3.10/site-packages/scipy/optimize/_optimize.py:2310: RuntimeWarning: overflow encountered in double_scalars\n",
      "  p = (x - v) * tmp2 - (x - w) * tmp1\n",
      "/cita/modules/python/3.10.2/lib/python3.10/site-packages/scipy/optimize/_optimize.py:2318: RuntimeWarning: overflow encountered in double_scalars\n",
      "  if ((p > tmp2 * (a - x)) and (p < tmp2 * (b - x)) and\n",
      "/cita/modules/python/3.10.2/lib/python3.10/site-packages/scipy/optimize/_optimize.py:2310: RuntimeWarning: overflow encountered in double_scalars\n",
      "  p = (x - v) * tmp2 - (x - w) * tmp1\n",
      "/cita/modules/python/3.10.2/lib/python3.10/site-packages/scipy/optimize/_optimize.py:2310: RuntimeWarning: invalid value encountered in double_scalars\n",
      "  p = (x - v) * tmp2 - (x - w) * tmp1\n",
      "/cita/modules/python/3.10.2/lib/python3.10/site-packages/scipy/optimize/_optimize.py:2318: RuntimeWarning: overflow encountered in double_scalars\n",
      "  if ((p > tmp2 * (a - x)) and (p < tmp2 * (b - x)) and\n",
      "/cita/modules/python/3.10.2/lib/python3.10/site-packages/scipy/optimize/_optimize.py:2310: RuntimeWarning: invalid value encountered in double_scalars\n",
      "  p = (x - v) * tmp2 - (x - w) * tmp1\n",
      "/cita/modules/python/3.10.2/lib/python3.10/site-packages/scipy/optimize/_optimize.py:2310: RuntimeWarning: overflow encountered in double_scalars\n",
      "  p = (x - v) * tmp2 - (x - w) * tmp1\n",
      "/cita/modules/python/3.10.2/lib/python3.10/site-packages/scipy/optimize/_optimize.py:2310: RuntimeWarning: invalid value encountered in double_scalars\n",
      "  p = (x - v) * tmp2 - (x - w) * tmp1\n",
      "/cita/modules/python/3.10.2/lib/python3.10/site-packages/scipy/optimize/_optimize.py:2318: RuntimeWarning: overflow encountered in double_scalars\n",
      "  if ((p > tmp2 * (a - x)) and (p < tmp2 * (b - x)) and\n",
      "/cita/modules/python/3.10.2/lib/python3.10/site-packages/scipy/optimize/_optimize.py:2310: RuntimeWarning: overflow encountered in double_scalars\n",
      "  p = (x - v) * tmp2 - (x - w) * tmp1\n",
      "/cita/modules/python/3.10.2/lib/python3.10/site-packages/scipy/optimize/_optimize.py:2310: RuntimeWarning: invalid value encountered in double_scalars\n",
      "  p = (x - v) * tmp2 - (x - w) * tmp1\n",
      "/cita/modules/python/3.10.2/lib/python3.10/site-packages/scipy/optimize/_optimize.py:2318: RuntimeWarning: overflow encountered in double_scalars\n",
      "  if ((p > tmp2 * (a - x)) and (p < tmp2 * (b - x)) and\n",
      "/cita/modules/python/3.10.2/lib/python3.10/site-packages/scipy/optimize/_optimize.py:2310: RuntimeWarning: overflow encountered in double_scalars\n",
      "  p = (x - v) * tmp2 - (x - w) * tmp1\n",
      "/cita/modules/python/3.10.2/lib/python3.10/site-packages/scipy/optimize/_optimize.py:2310: RuntimeWarning: invalid value encountered in double_scalars\n",
      "  p = (x - v) * tmp2 - (x - w) * tmp1\n",
      "/cita/modules/python/3.10.2/lib/python3.10/site-packages/scipy/optimize/_optimize.py:2318: RuntimeWarning: overflow encountered in double_scalars\n",
      "  if ((p > tmp2 * (a - x)) and (p < tmp2 * (b - x)) and\n",
      "/cita/modules/python/3.10.2/lib/python3.10/site-packages/scipy/optimize/_optimize.py:2310: RuntimeWarning: invalid value encountered in double_scalars\n",
      "  p = (x - v) * tmp2 - (x - w) * tmp1\n",
      "/cita/modules/python/3.10.2/lib/python3.10/site-packages/scipy/optimize/_optimize.py:2310: RuntimeWarning: overflow encountered in double_scalars\n",
      "  p = (x - v) * tmp2 - (x - w) * tmp1\n",
      "/cita/modules/python/3.10.2/lib/python3.10/site-packages/scipy/optimize/_optimize.py:2310: RuntimeWarning: invalid value encountered in double_scalars\n",
      "  p = (x - v) * tmp2 - (x - w) * tmp1\n",
      "/cita/modules/python/3.10.2/lib/python3.10/site-packages/scipy/optimize/_optimize.py:2318: RuntimeWarning: overflow encountered in double_scalars\n",
      "  if ((p > tmp2 * (a - x)) and (p < tmp2 * (b - x)) and\n",
      "/cita/modules/python/3.10.2/lib/python3.10/site-packages/scipy/optimize/_optimize.py:2310: RuntimeWarning: invalid value encountered in double_scalars\n",
      "  p = (x - v) * tmp2 - (x - w) * tmp1\n",
      "/cita/modules/python/3.10.2/lib/python3.10/site-packages/scipy/optimize/_optimize.py:2319: RuntimeWarning: overflow encountered in double_scalars\n",
      "  (np.abs(p) < np.abs(0.5 * tmp2 * dx_temp))):\n",
      "/cita/modules/python/3.10.2/lib/python3.10/site-packages/scipy/optimize/_optimize.py:2310: RuntimeWarning: overflow encountered in double_scalars\n",
      "  p = (x - v) * tmp2 - (x - w) * tmp1\n",
      "/cita/modules/python/3.10.2/lib/python3.10/site-packages/scipy/optimize/_optimize.py:2310: RuntimeWarning: invalid value encountered in double_scalars\n",
      "  p = (x - v) * tmp2 - (x - w) * tmp1\n",
      "/cita/modules/python/3.10.2/lib/python3.10/site-packages/scipy/optimize/_optimize.py:2318: RuntimeWarning: overflow encountered in double_scalars\n",
      "  if ((p > tmp2 * (a - x)) and (p < tmp2 * (b - x)) and\n",
      "/cita/modules/python/3.10.2/lib/python3.10/site-packages/scipy/optimize/_optimize.py:2310: RuntimeWarning: overflow encountered in double_scalars\n",
      "  p = (x - v) * tmp2 - (x - w) * tmp1\n",
      "/cita/modules/python/3.10.2/lib/python3.10/site-packages/scipy/optimize/_optimize.py:2310: RuntimeWarning: invalid value encountered in double_scalars\n",
      "  p = (x - v) * tmp2 - (x - w) * tmp1\n",
      "/cita/modules/python/3.10.2/lib/python3.10/site-packages/scipy/optimize/_optimize.py:2318: RuntimeWarning: overflow encountered in double_scalars\n",
      "  if ((p > tmp2 * (a - x)) and (p < tmp2 * (b - x)) and\n",
      "/cita/modules/python/3.10.2/lib/python3.10/site-packages/scipy/optimize/_optimize.py:2310: RuntimeWarning: overflow encountered in double_scalars\n",
      "  p = (x - v) * tmp2 - (x - w) * tmp1\n",
      "/cita/modules/python/3.10.2/lib/python3.10/site-packages/scipy/optimize/_optimize.py:2310: RuntimeWarning: invalid value encountered in double_scalars\n",
      "  p = (x - v) * tmp2 - (x - w) * tmp1\n",
      "/cita/modules/python/3.10.2/lib/python3.10/site-packages/scipy/optimize/_optimize.py:2318: RuntimeWarning: overflow encountered in double_scalars\n",
      "  if ((p > tmp2 * (a - x)) and (p < tmp2 * (b - x)) and\n",
      "/cita/modules/python/3.10.2/lib/python3.10/site-packages/scipy/optimize/_optimize.py:2310: RuntimeWarning: overflow encountered in double_scalars\n",
      "  p = (x - v) * tmp2 - (x - w) * tmp1\n",
      "/cita/modules/python/3.10.2/lib/python3.10/site-packages/scipy/optimize/_optimize.py:2310: RuntimeWarning: invalid value encountered in double_scalars\n",
      "  p = (x - v) * tmp2 - (x - w) * tmp1\n",
      "/cita/modules/python/3.10.2/lib/python3.10/site-packages/scipy/optimize/_optimize.py:2318: RuntimeWarning: overflow encountered in double_scalars\n",
      "  if ((p > tmp2 * (a - x)) and (p < tmp2 * (b - x)) and\n",
      "/cita/modules/python/3.10.2/lib/python3.10/site-packages/scipy/optimize/_optimize.py:2319: RuntimeWarning: overflow encountered in double_scalars\n",
      "  (np.abs(p) < np.abs(0.5 * tmp2 * dx_temp))):\n",
      "/cita/modules/python/3.10.2/lib/python3.10/site-packages/scipy/optimize/_optimize.py:2310: RuntimeWarning: overflow encountered in double_scalars\n",
      "  p = (x - v) * tmp2 - (x - w) * tmp1\n",
      "/cita/modules/python/3.10.2/lib/python3.10/site-packages/scipy/optimize/_optimize.py:2310: RuntimeWarning: invalid value encountered in double_scalars\n",
      "  p = (x - v) * tmp2 - (x - w) * tmp1\n",
      "/cita/modules/python/3.10.2/lib/python3.10/site-packages/scipy/optimize/_optimize.py:2318: RuntimeWarning: overflow encountered in double_scalars\n",
      "  if ((p > tmp2 * (a - x)) and (p < tmp2 * (b - x)) and\n",
      "/cita/modules/python/3.10.2/lib/python3.10/site-packages/scipy/optimize/_optimize.py:2310: RuntimeWarning: invalid value encountered in double_scalars\n",
      "  p = (x - v) * tmp2 - (x - w) * tmp1\n",
      "[Parallel(n_jobs=-1)]: Done 73792 tasks      | elapsed:  1.1min\n",
      "[Parallel(n_jobs=-1)]: Done 83872 tasks      | elapsed:  1.2min\n",
      "[Parallel(n_jobs=-1)]: Done 94528 tasks      | elapsed:  1.4min\n",
      "[Parallel(n_jobs=-1)]: Done 100000 out of 100000 | elapsed:  1.5min finished\n"
     ]
    }
   ],
   "source": [
    "# Define the range of D_L * H0 values to sample\n",
    "x_min, x_max, x_steps = 40, 1e8, int(1e5)\n",
    "x_vals = np.linspace(x_min, x_max, x_steps)  # x = D_L * H0\n",
    "\n",
    "# Precompute z(x) using H0=1 cosmology\n",
    "def compute_z_from_x(x):\n",
    "    try:\n",
    "        D_L = x * u.Mpc  # Since we're using H0=1\n",
    "        z = z_at_value(Planck18.clone(H0=1).luminosity_distance, D_L)\n",
    "        return z.value\n",
    "    except Exception as e:\n",
    "        print(f\"Warning: x={x} — {e}\")\n",
    "        return np.nan\n",
    "\n",
    "z_vals = Parallel(n_jobs=-1, verbose=5)(delayed(compute_z_from_x)(x) for x in x_vals)"
   ]
  },
  {
   "cell_type": "code",
   "execution_count": 3,
   "id": "eb2464ba",
   "metadata": {},
   "outputs": [],
   "source": [
    "# Step 3: Interpolant: z = f(x = D_L * H0)\n",
    "valid = ~np.isnan(z_vals)\n",
    "interp_z = interp1d(x_vals[valid], np.array(z_vals)[valid], kind='linear', bounds_error=False, fill_value=np.nan)\n",
    "\n",
    "# Usage function\n",
    "def get_z(H0,D_L):\n",
    "    x = D_L * H0\n",
    "    return interp_z(x)"
   ]
  },
  {
   "cell_type": "code",
   "execution_count": 4,
   "id": "1f0ca2d7",
   "metadata": {},
   "outputs": [
    {
     "ename": "NameError",
     "evalue": "name 'redshift_interpolant' is not defined",
     "output_type": "error",
     "traceback": [
      "\u001b[0;31m---------------------------------------------------------------------------\u001b[0m",
      "\u001b[0;31mNameError\u001b[0m                                 Traceback (most recent call last)",
      "Input \u001b[0;32mIn [4]\u001b[0m, in \u001b[0;36m<module>\u001b[0;34m\u001b[0m\n\u001b[0;32m----> 1\u001b[0m \u001b[43mredshift_interpolant\u001b[49m(\u001b[38;5;241m100\u001b[39m,\u001b[38;5;241m100\u001b[39m)\n",
      "\u001b[0;31mNameError\u001b[0m: name 'redshift_interpolant' is not defined"
     ]
    }
   ],
   "source": [
    "redshift_interpolant(100,100)"
   ]
  },
  {
   "cell_type": "code",
   "execution_count": 4,
   "id": "62fefbe5-0525-475d-a413-edd7eeaf5346",
   "metadata": {
    "scrolled": true
   },
   "outputs": [],
   "source": [
    "# Define grid ranges\n",
    "H0_min, H0_max, H0_steps = 40, 100, 256  # H0 in km/s/Mpc\n",
    "D_L_min, D_L_max, D_L_steps = 1, 1e6, 2500  # D_L in Mpc\n",
    "\n",
    "H0_values = np.linspace(H0_min, H0_max, H0_steps)\n",
    "D_L_values = np.linspace(D_L_min, D_L_max, D_L_steps)\n",
    "\n",
    "z_grid = np.zeros((H0_steps, D_L_steps))"
   ]
  },
  {
   "cell_type": "code",
   "execution_count": 9,
   "id": "65590caa-ed39-42cc-ba52-0589835ddc45",
   "metadata": {},
   "outputs": [
    {
     "name": "stderr",
     "output_type": "stream",
     "text": [
      "[Parallel(n_jobs=-1)]: Using backend LokyBackend with 32 concurrent workers.\n"
     ]
    },
    {
     "name": "stderr",
     "output_type": "stream",
     "text": [
      "[Parallel(n_jobs=-1)]: Done   8 tasks      | elapsed:    2.8s\n",
      "[Parallel(n_jobs=-1)]: Done  98 tasks      | elapsed:    3.2s\n",
      "[Parallel(n_jobs=-1)]: Done 257 tasks      | elapsed:    3.6s\n",
      "[Parallel(n_jobs=-1)]: Done 843 tasks      | elapsed:    4.2s\n",
      "[Parallel(n_jobs=-1)]: Done 1635 tasks      | elapsed:    5.0s\n",
      "[Parallel(n_jobs=-1)]: Done 3695 tasks      | elapsed:    6.5s\n",
      "[Parallel(n_jobs=-1)]: Done 8000 tasks      | elapsed:    8.7s\n",
      "[Parallel(n_jobs=-1)]: Done 12896 tasks      | elapsed:   11.1s\n",
      "[Parallel(n_jobs=-1)]: Done 18368 tasks      | elapsed:   13.8s\n",
      "[Parallel(n_jobs=-1)]: Done 24416 tasks      | elapsed:   17.1s\n",
      "[Parallel(n_jobs=-1)]: Done 31040 tasks      | elapsed:   20.3s\n",
      "[Parallel(n_jobs=-1)]: Done 38240 tasks      | elapsed:   23.8s\n",
      "[Parallel(n_jobs=-1)]: Done 46016 tasks      | elapsed:   27.9s\n",
      "[Parallel(n_jobs=-1)]: Done 54368 tasks      | elapsed:   32.0s\n",
      "[Parallel(n_jobs=-1)]: Done 63296 tasks      | elapsed:   36.6s\n",
      "[Parallel(n_jobs=-1)]: Done 72800 tasks      | elapsed:   41.3s\n",
      "[Parallel(n_jobs=-1)]: Done 82880 tasks      | elapsed:   46.4s\n",
      "[Parallel(n_jobs=-1)]: Done 93536 tasks      | elapsed:   52.0s\n",
      "[Parallel(n_jobs=-1)]: Done 104768 tasks      | elapsed:   57.7s\n",
      "[Parallel(n_jobs=-1)]: Done 116576 tasks      | elapsed:  1.1min\n",
      "[Parallel(n_jobs=-1)]: Done 128960 tasks      | elapsed:  1.2min\n",
      "[Parallel(n_jobs=-1)]: Done 141920 tasks      | elapsed:  1.3min\n",
      "[Parallel(n_jobs=-1)]: Done 155456 tasks      | elapsed:  1.4min\n",
      "[Parallel(n_jobs=-1)]: Done 169568 tasks      | elapsed:  1.5min\n",
      "[Parallel(n_jobs=-1)]: Done 184256 tasks      | elapsed:  1.6min\n",
      "[Parallel(n_jobs=-1)]: Done 199520 tasks      | elapsed:  1.8min\n",
      "[Parallel(n_jobs=-1)]: Done 215360 tasks      | elapsed:  1.9min\n",
      "[Parallel(n_jobs=-1)]: Done 231776 tasks      | elapsed:  2.0min\n",
      "[Parallel(n_jobs=-1)]: Done 248768 tasks      | elapsed:  2.2min\n",
      "[Parallel(n_jobs=-1)]: Done 266336 tasks      | elapsed:  2.4min\n",
      "[Parallel(n_jobs=-1)]: Done 284480 tasks      | elapsed:  2.5min\n",
      "[Parallel(n_jobs=-1)]: Done 303200 tasks      | elapsed:  2.7min\n",
      "[Parallel(n_jobs=-1)]: Done 322496 tasks      | elapsed:  2.8min\n",
      "[Parallel(n_jobs=-1)]: Done 342368 tasks      | elapsed:  3.0min\n",
      "[Parallel(n_jobs=-1)]: Done 362816 tasks      | elapsed:  3.2min\n",
      "[Parallel(n_jobs=-1)]: Done 383840 tasks      | elapsed:  3.4min\n",
      "[Parallel(n_jobs=-1)]: Done 405440 tasks      | elapsed:  3.6min\n",
      "[Parallel(n_jobs=-1)]: Done 427616 tasks      | elapsed:  3.8min\n",
      "[Parallel(n_jobs=-1)]: Done 450368 tasks      | elapsed:  4.0min\n",
      "[Parallel(n_jobs=-1)]: Done 473696 tasks      | elapsed:  4.2min\n",
      "[Parallel(n_jobs=-1)]: Done 497600 tasks      | elapsed:  4.4min\n",
      "[Parallel(n_jobs=-1)]: Done 522080 tasks      | elapsed:  4.6min\n",
      "[Parallel(n_jobs=-1)]: Done 547136 tasks      | elapsed:  4.9min\n",
      "[Parallel(n_jobs=-1)]: Done 572768 tasks      | elapsed:  5.1min\n",
      "[Parallel(n_jobs=-1)]: Done 598976 tasks      | elapsed:  5.3min\n",
      "[Parallel(n_jobs=-1)]: Done 625760 tasks      | elapsed:  5.6min\n",
      "[Parallel(n_jobs=-1)]: Done 640000 out of 640000 | elapsed:  5.7min finished\n"
     ]
    }
   ],
   "source": [
    "def compute_z(i, j):\n",
    "    H0 = H0_values[i]\n",
    "    D_L = D_L_values[j]\n",
    "\n",
    "    try:\n",
    "        cosmo = Planck18.clone(H0=H0 * u.km / (u.Mpc * u.s))\n",
    "        z = z_at_value(cosmo.luminosity_distance, D_L * u.Mpc)\n",
    "        \n",
    "        return (i, j, z)\n",
    "    except Exception as e:\n",
    "        print(f\"Warning: H0={H0}, D_L={D_L} — {e}\")\n",
    "        return (i, j, np.nan)\n",
    "\n",
    "# Flatten the grid and compute in parallel\n",
    "results = Parallel(n_jobs=-1, verbose=5)(\n",
    "    delayed(compute_z)(i, j)\n",
    "    for i in range(len(H0_values))\n",
    "    for j in range(len(D_L_values))\n",
    ")"
   ]
  },
  {
   "cell_type": "code",
   "execution_count": 10,
   "id": "43d5c678-8044-4bf8-b831-8e5287a26f1f",
   "metadata": {},
   "outputs": [],
   "source": [
    "# Define ranges for H0 and redshift\n",
    "H0_values = np.linspace(40, 100, 256)  # H0 in km/s/Mpc\n",
    "\n",
    "for i, j, z in results:\n",
    "    z_grid[i, j] = z.value  # Axis 0: H0, 1: D_L\n",
    "\n",
    "# Create the interpolant\n",
    "redshift_interpolant = RegularGridInterpolator(\n",
    "    (H0_values, D_L_values),\n",
    "    z_grid,\n",
    "    bounds_error=False,\n",
    "    fill_value=np.nan\n",
    ")"
   ]
  },
  {
   "cell_type": "code",
   "execution_count": 13,
   "id": "ae798be5-89d0-46f0-9169-4d4eb2c41433",
   "metadata": {},
   "outputs": [
    {
     "data": {
      "text/plain": [
       "'\"\\n\\n# Save the interpolant to a file\\nwith open(\"redshift_interpolant.pkl\", \"wb\") as f:\\n    pickle.dump(redshift_interpolant, f)\\n\\nprint(\"Interpolant saved to redshift_interpolant.pkl\")\\n'"
      ]
     },
     "execution_count": 13,
     "metadata": {},
     "output_type": "execute_result"
    }
   ],
   "source": [
    "\"\"\"\"\n",
    "\n",
    "# Save the interpolant to a file\n",
    "with open(\"redshift_interpolant.pkl\", \"wb\") as f:\n",
    "    pickle.dump(redshift_interpolant, f)\n",
    "\n",
    "print(\"Interpolant saved to redshift_interpolant.pkl\")\n",
    "\"\"\""
   ]
  },
  {
   "cell_type": "code",
   "execution_count": 17,
   "id": "140e52af-6f86-4ebd-bafc-03c252022c76",
   "metadata": {},
   "outputs": [],
   "source": [
    "with open(\"redshift_interpolant.pkl\", \"rb\") as f:\n",
    "    redshift_interpolant = pickle.load(f)"
   ]
  },
  {
   "cell_type": "code",
   "execution_count": 27,
   "id": "8fe18a44-307f-43b5-a106-14fa37f87b1e",
   "metadata": {},
   "outputs": [
    {
     "name": "stdout",
     "output_type": "stream",
     "text": [
      "[66 66 66]\n"
     ]
    },
    {
     "data": {
      "text/plain": [
       "array([0.02406747, 0.15001036, 0.33872963])"
      ]
     },
     "execution_count": 27,
     "metadata": {},
     "output_type": "execute_result"
    }
   ],
   "source": [
    "d = np.array([100,500,1000])\n",
    "t = np.full_like(d, 66)\n",
    "print(t)\n",
    "get_z(d,t)"
   ]
  },
  {
   "cell_type": "markdown",
   "id": "4bc6e4e7-eef1-403e-acba-e58356b89f52",
   "metadata": {},
   "source": [
    "## Parameters to generate BBH mass distribution"
   ]
  },
  {
   "cell_type": "code",
   "execution_count": 3,
   "id": "ae1e6b1c-f800-4a3a-9197-592e1d58dafa",
   "metadata": {},
   "outputs": [],
   "source": [
    "# Parameters with astropy units\n",
    "mu_1 = 10.0 * u.Msun\n",
    "mu_2 = 33.4 * u.Msun\n",
    "sigma_1 = 1.1 * u.Msun\n",
    "sigma_2 = 4.2 * u.Msun\n",
    "f_p1 = 0.75\n",
    "f_p2 = 0.07\n",
    "\n",
    "f_p1 = 0.75\n",
    "f_p2 = 0.07\n",
    "\n",
    "alpha_1 = -2.7\n",
    "alpha_2 = -4.2\n",
    "m_min = 12.9 * u.Msun\n",
    "delta_m = 0.6 * u.Msun\n",
    "m_b = 42.7 * u.Msun\n",
    "m_max = 100 * u.Msun\n",
    "num_samples = int(1e4)\n",
    "k_1 = 0.0\n",
    "k_2= 1\n",
    "mass_error_fraction=0.1\n",
    "log_distance_scatter=0.05"
   ]
  },
  {
   "cell_type": "markdown",
   "id": "c6785c2c-ab75-4e74-a3fd-971cab1c2b0a",
   "metadata": {},
   "source": [
    "## Generate samples"
   ]
  },
  {
   "cell_type": "code",
   "execution_count": 4,
   "id": "d78250a5-6add-4f80-9bcc-d0946563f013",
   "metadata": {},
   "outputs": [],
   "source": [
    "# Simulations\n",
    "redshifts = generate_redshift_samples(0.0, 10.0, num_samples)\n",
    "p_values, mass = massDensity_evol(mu_1, sigma_1, f_p1, alpha_1, m_min, m_b, \n",
    "                                          mu_2, sigma_2, f_p2, alpha_2, delta_m, m_max, \n",
    "                                          redshifts, k_1, k_2)\n",
    "cdf_list = [cumulativeDensity(p, mass) for p in p_values]\n",
    "massSamples = inverseTransformSamplingWithEvolution(cdf_list, mass, redshifts, num_samples)\n",
    "log_mass_plus_log1pz = np.log10(massSamples.value * (1 + redshifts))\n",
    "        #luminosityDistances = luminosity_distance_interp(redshifts)\n",
    "luminosityDistances = Planck18.luminosity_distance(redshifts).value\n",
    "\n",
    "        # Add observational errors\n",
    "luminosityDistances, log_mass_plus_log1pz = add_observational_error(\n",
    "            luminosityDistances, log_mass_plus_log1pz, \n",
    "            mass_error_fraction=0, \n",
    "            log_distance_scatter=0\n",
    "        )"
   ]
  },
  {
   "cell_type": "markdown",
   "id": "1ff80335-1be5-430c-ba5c-1e21ddd686c0",
   "metadata": {},
   "source": [
    "## Data reduction / calibration"
   ]
  },
  {
   "cell_type": "code",
   "execution_count": 5,
   "id": "3c5c4cfb-50c0-40b0-8e93-3b8dbc97fbae",
   "metadata": {},
   "outputs": [],
   "source": [
    "mask = np.where((luminosityDistances < 1e10) & (luminosityDistances > 0000))\n",
    "filtered_luminosityDistances = luminosityDistances[mask]\n",
    "filtered_log_mass_plus_log1pz = log_mass_plus_log1pz[mask]\n",
    "filtered_redshifts = redshifts[mask]"
   ]
  },
  {
   "cell_type": "markdown",
   "id": "3499e50f-2188-4785-b0f4-9e0b2cfbd7a4",
   "metadata": {},
   "source": [
    "## Fitting + Plotting"
   ]
  },
  {
   "cell_type": "code",
   "execution_count": 6,
   "id": "5e3aa4b6-98fc-4d43-938f-d222019fbf33",
   "metadata": {},
   "outputs": [
    {
     "data": {
      "image/png": "[encoded data removed]",
      "text/plain": [
       "<Figure size 432x288 with 1 Axes>"
      ]
     },
     "metadata": {
      "needs_background": "light"
     },
     "output_type": "display_data"
    },
    {
     "data": {
      "image/png": "[encoded data removed]",
      "text/plain": [
       "<Figure size 432x288 with 1 Axes>"
      ]
     },
     "metadata": {
      "needs_background": "light"
     },
     "output_type": "display_data"
    },
    {
     "data": {
      "image/png": "[encoded data removed]",
      "text/plain": [
       "<Figure size 432x288 with 1 Axes>"
      ]
     },
     "metadata": {
      "needs_background": "light"
     },
     "output_type": "display_data"
    },
    {
     "data": {
      "image/png": "[encoded data removed]",
      "text/plain": [
       "<Figure size 432x288 with 1 Axes>"
      ]
     },
     "metadata": {
      "needs_background": "light"
     },
     "output_type": "display_data"
    },
    {
     "data": {
      "image/png": "[encoded data removed]",
      "text/plain": [
       "<Figure size 432x288 with 1 Axes>"
      ]
     },
     "metadata": {
      "needs_background": "light"
     },
     "output_type": "display_data"
    },
    {
     "data": {
      "image/png": "[encoded data removed]",
      "text/plain": [
       "<Figure size 432x288 with 1 Axes>"
      ]
     },
     "metadata": {
      "needs_background": "light"
     },
     "output_type": "display_data"
    },
    {
     "data": {
      "image/png": "[encoded data removed]",
      "text/plain": [
       "<Figure size 432x288 with 1 Axes>"
      ]
     },
     "metadata": {
      "needs_background": "light"
     },
     "output_type": "display_data"
    },
    {
     "name": "stderr",
     "output_type": "stream",
     "text": [
      "/fs/lustre/scratch/irosenberg/H0_fitting/SpectralSirens/fit_H0.py:228: RuntimeWarning: invalid value encountered in log10\n",
      "  modeled_log1pz_plus_logM_low = np.log10(mass_offset_low + k_low * redshifts_low) + np.log10(1 + redshifts_low)\n"
     ]
    },
    {
     "data": {
      "image/png": "[encoded data removed]",
      "text/plain": [
       "<Figure size 432x288 with 1 Axes>"
      ]
     },
     "metadata": {
      "needs_background": "light"
     },
     "output_type": "display_data"
    },
    {
     "data": {
      "image/png": "[encoded data removed]",
      "text/plain": [
       "<Figure size 432x288 with 1 Axes>"
      ]
     },
     "metadata": {
      "needs_background": "light"
     },
     "output_type": "display_data"
    },
    {
     "data": {
      "image/png": "[encoded data removed]",
      "text/plain": [
       "<Figure size 432x288 with 1 Axes>"
      ]
     },
     "metadata": {
      "needs_background": "light"
     },
     "output_type": "display_data"
    },
    {
     "data": {
      "image/png": "[encoded data removed]",
      "text/plain": [
       "<Figure size 432x288 with 1 Axes>"
      ]
     },
     "metadata": {
      "needs_background": "light"
     },
     "output_type": "display_data"
    },
    {
     "data": {
      "image/png": "[encoded data removed]",
      "text/plain": [
       "<Figure size 432x288 with 1 Axes>"
      ]
     },
     "metadata": {
      "needs_background": "light"
     },
     "output_type": "display_data"
    },
    {
     "name": "stdout",
     "output_type": "stream",
     "text": [
      "None\n",
      "None\n",
      "None\n",
      "None\n",
      "None\n"
     ]
    },
    {
     "ename": "TypeError",
     "evalue": "unsupported operand type(s) for *: 'NoneType' and 'float'",
     "output_type": "error",
     "traceback": [
      "\u001b[0;31m---------------------------------------------------------------------------\u001b[0m",
      "\u001b[0;31mTypeError\u001b[0m                                 Traceback (most recent call last)",
      "Input \u001b[0;32mIn [6]\u001b[0m, in \u001b[0;36m<module>\u001b[0;34m\u001b[0m\n\u001b[1;32m     18\u001b[0m \u001b[38;5;66;03m# Plotting code\u001b[39;00m\n\u001b[1;32m     19\u001b[0m plt\u001b[38;5;241m.\u001b[39mfigure(figsize\u001b[38;5;241m=\u001b[39m(\u001b[38;5;241m10\u001b[39m, \u001b[38;5;241m6\u001b[39m))\n\u001b[0;32m---> 20\u001b[0m \u001b[43mfit_and_plot_evol\u001b[49m\u001b[43m(\u001b[49m\u001b[43mbest_H0\u001b[49m\u001b[43m,\u001b[49m\u001b[43m \u001b[49m\u001b[43mbest_mass_offset_low_mass\u001b[49m\u001b[43m,\u001b[49m\u001b[43mbest_k_low_mass\u001b[49m\u001b[43m,\u001b[49m\u001b[43mluminosityDistances_cut1\u001b[49m\u001b[43m,\u001b[49m\u001b[43m \u001b[49m\u001b[43mlog_mass_plus_log1pz_cut1\u001b[49m\u001b[43m,\u001b[49m\u001b[38;5;124;43m\"\u001b[39;49m\u001b[38;5;124;43mLow Mass\u001b[39;49m\u001b[38;5;124;43m\"\u001b[39;49m\u001b[43m,\u001b[49m\u001b[43m \u001b[49m\u001b[43mcolor_obs\u001b[49m\u001b[38;5;241;43m=\u001b[39;49m\u001b[38;5;124;43m\"\u001b[39;49m\u001b[38;5;124;43mdarkorange\u001b[39;49m\u001b[38;5;124;43m\"\u001b[39;49m\u001b[43m,\u001b[49m\u001b[43m \u001b[49m\u001b[43mcolor_fit\u001b[49m\u001b[38;5;241;43m=\u001b[39;49m\u001b[38;5;124;43m\"\u001b[39;49m\u001b[38;5;124;43morangered\u001b[39;49m\u001b[38;5;124;43m\"\u001b[39;49m\u001b[43m)\u001b[49m\n\u001b[1;32m     21\u001b[0m fit_and_plot_evol(best_H0, best_mass_offset_high_mass,best_k_high_mass,luminosityDistances_cut2, log_mass_plus_log1pz_cut2,\u001b[38;5;124m\"\u001b[39m\u001b[38;5;124mHigh Mass\u001b[39m\u001b[38;5;124m\"\u001b[39m, color_obs\u001b[38;5;241m=\u001b[39m\u001b[38;5;124m\"\u001b[39m\u001b[38;5;124mroyalblue\u001b[39m\u001b[38;5;124m\"\u001b[39m, color_fit\u001b[38;5;241m=\u001b[39m\u001b[38;5;124m\"\u001b[39m\u001b[38;5;124mnavy\u001b[39m\u001b[38;5;124m\"\u001b[39m)\n\u001b[1;32m     22\u001b[0m plt\u001b[38;5;241m.\u001b[39mxlabel(\u001b[38;5;124m\"\u001b[39m\u001b[38;5;124mLuminosity distance (Mpc)\u001b[39m\u001b[38;5;124m\"\u001b[39m)\n",
      "File \u001b[0;32m/fs/lustre/scratch/irosenberg/H0_fitting/SpectralSirens/fit_H0.py:327\u001b[0m, in \u001b[0;36mfit_and_plot_evol\u001b[0;34m(H0, mass_offset, k, luminosityDistances, log_mass_plus_log1pz, label_suffix, color_obs, color_fit)\u001b[0m\n\u001b[1;32m    324\u001b[0m     log1pz \u001b[38;5;241m=\u001b[39m np\u001b[38;5;241m.\u001b[39mlog10(\u001b[38;5;241m1\u001b[39m \u001b[38;5;241m+\u001b[39m redshifts[i])\n\u001b[1;32m    326\u001b[0m     \u001b[38;5;66;03m#if mass_offset + k * redshifts[i] > 0:\u001b[39;00m\n\u001b[0;32m--> 327\u001b[0m     modeled_values\u001b[38;5;241m.\u001b[39mappend(log1pz \u001b[38;5;241m+\u001b[39m np\u001b[38;5;241m.\u001b[39mlog10(mass_offset \u001b[38;5;241m+\u001b[39m \u001b[43mk\u001b[49m\u001b[43m \u001b[49m\u001b[38;5;241;43m*\u001b[39;49m\u001b[43m \u001b[49m\u001b[43mredshifts\u001b[49m\u001b[43m[\u001b[49m\u001b[43mi\u001b[49m\u001b[43m]\u001b[49m))\n\u001b[1;32m    330\u001b[0m plt\u001b[38;5;241m.\u001b[39mscatter(\n\u001b[1;32m    331\u001b[0m     luminosityDistances, \n\u001b[1;32m    332\u001b[0m     log_mass_plus_log1pz, \n\u001b[0;32m   (...)\u001b[0m\n\u001b[1;32m    335\u001b[0m     label\u001b[38;5;241m=\u001b[39m\u001b[38;5;124mf\u001b[39m\u001b[38;5;124m\"\u001b[39m\u001b[38;5;124mObserved Data (\u001b[39m\u001b[38;5;132;01m{\u001b[39;00mlabel_suffix\u001b[38;5;132;01m}\u001b[39;00m\u001b[38;5;124m)\u001b[39m\u001b[38;5;124m\"\u001b[39m\n\u001b[1;32m    336\u001b[0m )\n\u001b[1;32m    338\u001b[0m \u001b[38;5;66;03m# Plot the fitted curve with the specified color and line style\u001b[39;00m\n",
      "\u001b[0;31mTypeError\u001b[0m: unsupported operand type(s) for *: 'NoneType' and 'float'"
     ]
    },
    {
     "data": {
      "text/plain": [
       "<Figure size 720x432 with 0 Axes>"
      ]
     },
     "metadata": {},
     "output_type": "display_data"
    }
   ],
   "source": [
    "# Use the analyze_mass_distance_relation function and plot results\n",
    "results, data_cut1, data_cut2 = analyze_mass_distance_relation_evol_iter_comb(\n",
    "    filtered_luminosityDistances, filtered_log_mass_plus_log1pz,d_num=100,width_fac=1.3\n",
    ")\n",
    "\n",
    "# Unpack the results\n",
    "best_H0, best_mass_offset_low_mass,best_k_low_mass,best_mass_offset_high_mass,best_k_high_mass = results\n",
    "\n",
    "luminosityDistances_cut1, log_mass_plus_log1pz_cut1 = data_cut1\n",
    "luminosityDistances_cut2, log_mass_plus_log1pz_cut2 = data_cut2\n",
    "\n",
    "print(best_H0)\n",
    "print(best_k_low_mass)\n",
    "print(best_mass_offset_low_mass)\n",
    "print(best_k_high_mass)\n",
    "print(best_mass_offset_high_mass)\n",
    "\n",
    "# Plotting code\n",
    "plt.figure(figsize=(10, 6))\n",
    "fit_and_plot_evol(best_H0, best_mass_offset_low_mass,best_k_low_mass,luminosityDistances_cut1, log_mass_plus_log1pz_cut1,\"Low Mass\", color_obs=\"darkorange\", color_fit=\"orangered\")\n",
    "fit_and_plot_evol(best_H0, best_mass_offset_high_mass,best_k_high_mass,luminosityDistances_cut2, log_mass_plus_log1pz_cut2,\"High Mass\", color_obs=\"royalblue\", color_fit=\"navy\")\n",
    "plt.xlabel(\"Luminosity distance (Mpc)\")\n",
    "plt.ylabel(\"log(M) + log(1+z)\")\n",
    "plt.title(\"log(M) + log(1+z) vs Luminosity Distance (Fitted H0) for Low and High Mass Samples\")\n",
    "plt.legend(loc=\"upper left\", bbox_to_anchor=(1, 1))\n",
    "plt.grid(True)\n",
    "plt.show()"
   ]
  },
  {
   "cell_type": "markdown",
   "id": "7b1e5c7c-0ba5-405a-a382-f99a52d318d3",
   "metadata": {},
   "source": [
    "## Omega matter fitting"
   ]
  },
  {
   "cell_type": "code",
   "execution_count": null,
   "id": "6e9cde8a-209e-458b-a8b0-ae5017b17251",
   "metadata": {},
   "outputs": [],
   "source": []
  },
  {
   "cell_type": "code",
   "execution_count": 14,
   "id": "f2f3b34d-2535-47ed-a2e1-66fb9804675f",
   "metadata": {},
   "outputs": [
    {
     "name": "stderr",
     "output_type": "stream",
     "text": [
      "[Parallel(n_jobs=-1)]: Using backend LokyBackend with 32 concurrent workers.\n"
     ]
    },
    {
     "name": "stderr",
     "output_type": "stream",
     "text": [
      "[Parallel(n_jobs=-1)]: Done   8 tasks      | elapsed:    3.1s\n",
      "[Parallel(n_jobs=-1)]: Done  98 tasks      | elapsed:    3.5s\n",
      "[Parallel(n_jobs=-1)]: Done 256 tasks      | elapsed:    3.9s\n",
      "[Parallel(n_jobs=-1)]: Done 848 tasks      | elapsed:    4.5s\n",
      "[Parallel(n_jobs=-1)]: Done 2432 tasks      | elapsed:    5.2s\n",
      "[Parallel(n_jobs=-1)]: Done 6784 tasks      | elapsed:    7.2s\n",
      "[Parallel(n_jobs=-1)]: Done 15424 tasks      | elapsed:   10.5s\n",
      "[Parallel(n_jobs=-1)]: Done 25216 tasks      | elapsed:   14.7s\n",
      "[Parallel(n_jobs=-1)]: Done 36160 tasks      | elapsed:   19.4s\n",
      "[Parallel(n_jobs=-1)]: Done 48256 tasks      | elapsed:   24.4s\n",
      "[Parallel(n_jobs=-1)]: Done 61504 tasks      | elapsed:   29.9s\n",
      "[Parallel(n_jobs=-1)]: Done 75904 tasks      | elapsed:   35.8s\n",
      "[Parallel(n_jobs=-1)]: Done 91456 tasks      | elapsed:   42.2s\n",
      "[Parallel(n_jobs=-1)]: Done 108160 tasks      | elapsed:   49.0s\n",
      "[Parallel(n_jobs=-1)]: Done 126016 tasks      | elapsed:   56.4s\n",
      "[Parallel(n_jobs=-1)]: Done 145024 tasks      | elapsed:  1.1min\n",
      "[Parallel(n_jobs=-1)]: Done 165184 tasks      | elapsed:  1.2min\n",
      "[Parallel(n_jobs=-1)]: Done 186496 tasks      | elapsed:  1.4min\n",
      "[Parallel(n_jobs=-1)]: Done 208960 tasks      | elapsed:  1.5min\n",
      "[Parallel(n_jobs=-1)]: Done 232576 tasks      | elapsed:  1.7min\n",
      "[Parallel(n_jobs=-1)]: Done 257344 tasks      | elapsed:  1.8min\n",
      "[Parallel(n_jobs=-1)]: Done 283264 tasks      | elapsed:  2.0min\n",
      "[Parallel(n_jobs=-1)]: Done 310336 tasks      | elapsed:  2.2min\n",
      "[Parallel(n_jobs=-1)]: Done 338560 tasks      | elapsed:  2.4min\n",
      "[Parallel(n_jobs=-1)]: Done 367936 tasks      | elapsed:  2.6min\n",
      "[Parallel(n_jobs=-1)]: Done 398464 tasks      | elapsed:  2.8min\n",
      "[Parallel(n_jobs=-1)]: Done 430144 tasks      | elapsed:  3.1min\n",
      "[Parallel(n_jobs=-1)]: Done 462976 tasks      | elapsed:  3.3min\n",
      "[Parallel(n_jobs=-1)]: Done 496960 tasks      | elapsed:  3.5min\n",
      "[Parallel(n_jobs=-1)]: Done 532096 tasks      | elapsed:  3.8min\n",
      "[Parallel(n_jobs=-1)]: Done 568384 tasks      | elapsed:  4.0min\n",
      "[Parallel(n_jobs=-1)]: Done 605824 tasks      | elapsed:  4.3min\n",
      "[Parallel(n_jobs=-1)]: Done 644416 tasks      | elapsed:  4.5min\n",
      "[Parallel(n_jobs=-1)]: Done 684160 tasks      | elapsed:  4.8min\n",
      "[Parallel(n_jobs=-1)]: Done 725056 tasks      | elapsed:  5.1min\n",
      "[Parallel(n_jobs=-1)]: Done 767104 tasks      | elapsed:  5.4min\n",
      "[Parallel(n_jobs=-1)]: Done 810304 tasks      | elapsed:  5.7min\n",
      "[Parallel(n_jobs=-1)]: Done 841840 tasks      | elapsed:  5.9min\n",
      "[Parallel(n_jobs=-1)]: Done 875968 tasks      | elapsed:  6.2min\n",
      "[Parallel(n_jobs=-1)]: Done 910960 tasks      | elapsed:  6.4min\n",
      "[Parallel(n_jobs=-1)]: Done 946816 tasks      | elapsed:  6.7min\n",
      "[Parallel(n_jobs=-1)]: Done 983536 tasks      | elapsed:  6.9min\n",
      "[Parallel(n_jobs=-1)]: Done 1021120 tasks      | elapsed:  7.2min\n",
      "[Parallel(n_jobs=-1)]: Done 1059568 tasks      | elapsed:  7.5min\n",
      "[Parallel(n_jobs=-1)]: Done 1098880 tasks      | elapsed:  7.7min\n",
      "[Parallel(n_jobs=-1)]: Done 1139056 tasks      | elapsed:  8.0min\n",
      "[Parallel(n_jobs=-1)]: Done 1180096 tasks      | elapsed:  8.3min\n",
      "[Parallel(n_jobs=-1)]: Done 1212040 tasks      | elapsed:  8.6min\n",
      "[Parallel(n_jobs=-1)]: Done 1221184 tasks      | elapsed:  8.7min\n",
      "[Parallel(n_jobs=-1)]: Done 1250272 tasks      | elapsed:  8.9min\n",
      "[Parallel(n_jobs=-1)]: Done 1279936 tasks      | elapsed:  9.1min\n",
      "[Parallel(n_jobs=-1)]: Done 1310176 tasks      | elapsed:  9.3min\n",
      "[Parallel(n_jobs=-1)]: Done 1340992 tasks      | elapsed:  9.6min\n",
      "[Parallel(n_jobs=-1)]: Done 1372384 tasks      | elapsed:  9.8min\n",
      "[Parallel(n_jobs=-1)]: Done 1404352 tasks      | elapsed: 10.0min\n",
      "[Parallel(n_jobs=-1)]: Done 1406250 out of 1406250 | elapsed: 10.0min finished\n"
     ]
    }
   ],
   "source": [
    "# Parameter grids\n",
    "H0_values = np.linspace(40, 100, 75)\n",
    "#D_L_values = np.linspace(1, 1_000_000, 500)\n",
    "D_L_values = np.logspace(0, 6, 250)\n",
    "\n",
    "omega_m_values = np.linspace(0.25, 0.35, 75)\n",
    "\n",
    "# Preallocate output\n",
    "z_grid_m = np.full((len(H0_values), len(D_L_values),len(omega_m_values)),0)\n",
    "\n",
    "def compute_z(i, j, k):\n",
    "    H0 = H0_values[i]\n",
    "    D_L = D_L_values[j]\n",
    "    Om0 = omega_m_values[k]\n",
    "\n",
    "    try:\n",
    "        cosmo = Planck18.clone(H0=H0 * u.km / (u.Mpc * u.s), Om0=Om0)\n",
    "        z = z_at_value(cosmo.luminosity_distance, D_L * u.Mpc)\n",
    "        \n",
    "        return (i, j, k, z)\n",
    "    except Exception as e:\n",
    "        print(f\"Warning: H0={H0}, Om0={Om0}, D_L={D_L} — {e}\")\n",
    "        return (i, j, k, np.nan)\n",
    "\n",
    "# Flatten the grid and compute in parallel\n",
    "results = Parallel(n_jobs=-1, verbose=5)(\n",
    "    delayed(compute_z)(i, j, k)\n",
    "    for i in range(len(H0_values))\n",
    "    for j in range(len(D_L_values))\n",
    "    for k in range(len(omega_m_values))\n",
    "\n",
    ")"
   ]
  },
  {
   "cell_type": "code",
   "execution_count": 15,
   "id": "1fdd67e7-586b-4468-8d88-da25bd791e7b",
   "metadata": {
    "scrolled": true
   },
   "outputs": [
    {
     "data": {
      "text/plain": [
       "'\\n# Save the interpolant to a file\\nwith open(\"redshift_interpolant_m.pkl\", \"wb\") as f:\\n    pickle.dump(redshift_interpolant_m, f)\\n\\nprint(\"Interpolant saved to redshift_interpolant_m.pkl\")\\n'"
      ]
     },
     "execution_count": 15,
     "metadata": {},
     "output_type": "execute_result"
    }
   ],
   "source": [
    "\n",
    "for i, j, k, z in results:\n",
    "    z_grid_m[i, j, k] = z.value  # Axis 0: H0, 1: D_L, 2: Om0\n",
    "\n",
    "# Create the interpolant\n",
    "redshift_interpolant_m = RegularGridInterpolator(\n",
    "    (H0_values, D_L_values, omega_m_values),\n",
    "    z_grid_m,\n",
    "    bounds_error=False,\n",
    "    fill_value=np.nan\n",
    ")\n",
    "\"\"\"\n",
    "# Save the interpolant to a file\n",
    "with open(\"redshift_interpolant_m.pkl\", \"wb\") as f:\n",
    "    pickle.dump(redshift_interpolant_m, f)\n",
    "\n",
    "print(\"Interpolant saved to redshift_interpolant_m.pkl\")\n",
    "\"\"\""
   ]
  },
  {
   "cell_type": "code",
   "execution_count": 2,
   "id": "bd846cca",
   "metadata": {},
   "outputs": [],
   "source": [
    "\n",
    "with open(\"redshift_interpolant_m.pkl\", \"rb\") as f:\n",
    "    redshift_interpolant_m = pickle.load(f)"
   ]
  },
  {
   "cell_type": "markdown",
   "id": "d919fad7-9cd4-4f48-984c-f70bd78165db",
   "metadata": {},
   "source": [
    "## Parameters to generate BBH mass distribution"
   ]
  },
  {
   "cell_type": "code",
   "execution_count": 3,
   "id": "57bf51e5-8566-40f7-85f1-eb697e720cf4",
   "metadata": {},
   "outputs": [],
   "source": [
    "# Parameters with astropy units\n",
    "mu_1 = 10.0 * u.Msun\n",
    "mu_2 = 33.4 * u.Msun\n",
    "sigma_1 = 1.1 * u.Msun\n",
    "sigma_2 = 4.2 * u.Msun\n",
    "f_p1 = 0.75\n",
    "f_p2 = 0.07\n",
    "\n",
    "f_p1 = 0.75\n",
    "f_p2 = 0.07\n",
    "\n",
    "alpha_1 = -2.7\n",
    "alpha_2 = -4.2\n",
    "m_min = 12.9 * u.Msun\n",
    "delta_m = 0.6 * u.Msun\n",
    "m_b = 42.7 * u.Msun\n",
    "m_max = 100 * u.Msun\n",
    "num_samples = int(5e4)\n",
    "k_1 = 0.0\n",
    "k_2= 1\n",
    "mass_error_fraction=0.1\n",
    "log_distance_scatter=0.05"
   ]
  },
  {
   "cell_type": "markdown",
   "id": "daf0f9b3-8401-4818-9a90-160ddfcdd2ed",
   "metadata": {},
   "source": [
    "## Generate samples"
   ]
  },
  {
   "cell_type": "code",
   "execution_count": 4,
   "id": "01ab7524-6a99-47b5-89b1-28ead58d7c02",
   "metadata": {},
   "outputs": [],
   "source": [
    "# Simulations\n",
    "redshifts = generate_redshift_samples(0.0, 10.0, num_samples)\n",
    "p_values, mass = massDensity_evol(mu_1, sigma_1, f_p1, alpha_1, m_min, m_b, \n",
    "                                          mu_2, sigma_2, f_p2, alpha_2, delta_m, m_max, \n",
    "                                          redshifts, k_1, k_2)\n",
    "cdf_list = [cumulativeDensity(p, mass) for p in p_values]\n",
    "massSamples = inverseTransformSamplingWithEvolution(cdf_list, mass, redshifts, num_samples)\n",
    "log_mass_plus_log1pz = np.log10(massSamples.value * (1 + redshifts))\n",
    "        #luminosityDistances = luminosity_distance_interp(redshifts)\n",
    "luminosityDistances = Planck18.luminosity_distance(redshifts).value\n",
    "\n",
    "        # Add observational errors\n",
    "luminosityDistances, log_mass_plus_log1pz = add_observational_error(\n",
    "            luminosityDistances, log_mass_plus_log1pz, \n",
    "            mass_error_fraction=0, \n",
    "            log_distance_scatter=0\n",
    "        )"
   ]
  },
  {
   "cell_type": "markdown",
   "id": "c4e899ef-d6b1-4070-8643-b156909ada72",
   "metadata": {},
   "source": [
    "## Data reduction / calibration"
   ]
  },
  {
   "cell_type": "code",
   "execution_count": 5,
   "id": "5f470223-7074-421f-8ba2-2f062ca07690",
   "metadata": {},
   "outputs": [],
   "source": [
    "mask = np.where((luminosityDistances < 1e10) & (luminosityDistances > 0000))\n",
    "filtered_luminosityDistances = luminosityDistances[mask]\n",
    "filtered_log_mass_plus_log1pz = log_mass_plus_log1pz[mask]\n",
    "filtered_redshifts = redshifts[mask]"
   ]
  },
  {
   "cell_type": "markdown",
   "id": "232dfad0-5a51-4132-ae7e-c965e9f2da2f",
   "metadata": {},
   "source": [
    "## Fitting + Plotting"
   ]
  },
  {
   "cell_type": "code",
   "execution_count": 16,
   "id": "6341f634-5527-4bcf-b024-fa8167a64c03",
   "metadata": {
    "scrolled": true
   },
   "outputs": [
    {
     "name": "stdout",
     "output_type": "stream",
     "text": [
      "99.99999856572533\n",
      "-0.21479880755681496\n",
      "9.94525065606795\n",
      "-0.26699994119577\n",
      "33.22124927370529\n",
      "0.29998380348154763\n"
     ]
    },
    {
     "data": {
      "image/png": "[encoded data removed]",
      "text/plain": [
       "<Figure size 720x432 with 1 Axes>"
      ]
     },
     "metadata": {
      "needs_background": "light"
     },
     "output_type": "display_data"
    }
   ],
   "source": [
    "# Use the analyze_mass_distance_relation function and plot results\n",
    "results, data_cut1, data_cut2 = analyze_mass_distance_relation_evol_iter_comb_m(\n",
    "    filtered_luminosityDistances, filtered_log_mass_plus_log1pz,redshift_interpolant_m,d_num=100,width_fac=1.3)\n",
    "\n",
    "# Unpack the results\n",
    "best_H0, best_mass_offset_low_mass,best_k_low_mass,best_mass_offset_high_mass,best_k_high_mass,best_om_m = results\n",
    "\n",
    "luminosityDistances_cut1, log_mass_plus_log1pz_cut1 = data_cut1\n",
    "luminosityDistances_cut2, log_mass_plus_log1pz_cut2 = data_cut2\n",
    "\n",
    "print(best_H0)\n",
    "print(best_k_low_mass)\n",
    "print(best_mass_offset_low_mass)\n",
    "print(best_k_high_mass)\n",
    "print(best_mass_offset_high_mass)\n",
    "print(best_om_m)\n",
    "\n",
    "# Plotting code\n",
    "plt.figure(figsize=(10, 6))\n",
    "fit_and_plot_evol_m(best_H0, best_mass_offset_low_mass,best_k_low_mass,best_om_m,luminosityDistances_cut1, log_mass_plus_log1pz_cut1, redshift_interpolant_m,\"Low Mass\", color_obs=\"darkorange\", color_fit=\"orangered\")\n",
    "fit_and_plot_evol_m(best_H0, best_mass_offset_high_mass,best_k_high_mass,best_om_m,luminosityDistances_cut2, log_mass_plus_log1pz_cut2, redshift_interpolant_m,\"High Mass\", color_obs=\"royalblue\", color_fit=\"navy\")\n",
    "plt.xlabel(\"Luminosity distance (Mpc)\")\n",
    "plt.ylabel(\"log(M) + log(1+z)\")\n",
    "plt.title(\"log(M) + log(1+z) vs Luminosity Distance (Fitted H0) for Low and High Mass Samples\")\n",
    "plt.legend(loc=\"upper left\", bbox_to_anchor=(1, 1))\n",
    "plt.grid(True)\n",
    "plt.show()"
   ]
  },
  {
   "cell_type": "code",
   "execution_count": null,
   "id": "d7fb2640-eaf3-4d7a-90c4-025b7f9071de",
   "metadata": {},
   "outputs": [],
   "source": []
  },
  {
   "cell_type": "code",
   "execution_count": null,
   "id": "46359eb9-e303-4029-b129-ff04550b7981",
   "metadata": {},
   "outputs": [],
   "source": []
  },
  {
   "cell_type": "code",
   "execution_count": null,
   "id": "ff0fa09a-d56a-4c15-a48c-f3b46b5b0ded",
   "metadata": {},
   "outputs": [],
   "source": []
  },
  {
   "cell_type": "code",
   "execution_count": null,
   "id": "80226ecc-4a1d-49f5-8072-4208f7bc63c6",
   "metadata": {},
   "outputs": [],
   "source": []
  },
  {
   "cell_type": "code",
   "execution_count": 221,
   "id": "310e9e5f-4639-4e70-9f1a-c1546ca11b63",
   "metadata": {},
   "outputs": [],
   "source": [
    "# Prepare the input for the interpolant\n",
    "points_low = np.vstack((\n",
    "        np.full_like(luminosityDistances, 67.66),      # (N,) array of H0\n",
    "        luminosityDistances,                     # (N,) array of distances\n",
    "        np.full_like(luminosityDistances, 0.30966)    # (N,) array of Om_m\n",
    "    )).T \n",
    "\n",
    "    # Get interpolated redshifts\n",
    "redshifts_low = redshift_interpolant_m(points_low)"
   ]
  },
  {
   "cell_type": "code",
   "execution_count": 223,
   "id": "05849282-2a19-4759-a1d1-67a384d201c2",
   "metadata": {},
   "outputs": [
    {
     "data": {
      "image/png": "[encoded data removed]",
      "text/plain": [
       "<Figure size 640x480 with 1 Axes>"
      ]
     },
     "metadata": {},
     "output_type": "display_data"
    },
    {
     "data": {
      "image/png": "[encoded data removed]",
      "text/plain": [
       "<Figure size 640x480 with 1 Axes>"
      ]
     },
     "metadata": {},
     "output_type": "display_data"
    },
    {
     "name": "stdout",
     "output_type": "stream",
     "text": [
      "0.30966\n"
     ]
    }
   ],
   "source": [
    "plt.hist(redshifts_low,bins=50)\n",
    "plt.show()\n",
    "plt.hist(redshifts,bins=50)\n",
    "plt.show()\n",
    "\n",
    "print(Planck18.Om0)"
   ]
  },
  {
   "cell_type": "code",
   "execution_count": null,
   "id": "23f326c1-8fe9-435e-8ee8-cf5d8e364ec0",
   "metadata": {},
   "outputs": [],
   "source": []
  }
 ],
 "metadata": {
  "kernelspec": {
   "display_name": "Python 3 (ipykernel)",
   "language": "python",
   "name": "python3"
  },
  "language_info": {
   "codemirror_mode": {
    "name": "ipython",
    "version": 3
   },
   "file_extension": ".py",
   "mimetype": "text/x-python",
   "name": "python",
   "nbconvert_exporter": "python",
   "pygments_lexer": "ipython3",
   "version": "3.10.2"
  }
 },
 "nbformat": 4,
 "nbformat_minor": 5
}
